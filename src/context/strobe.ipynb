{
 "cells": [
  {
   "cell_type": "code",
   "execution_count": 7,
   "id": "60bb1f82",
   "metadata": {},
   "outputs": [
    {
     "data": {
      "text/plain": [
       "'STROBE-Checklist-Filled-COVID19-Vaccine-Acceptance.docx'"
      ]
     },
     "execution_count": 7,
     "metadata": {},
     "output_type": "execute_result"
    }
   ],
   "source": [
    "from docx import Document\n",
    "\n",
    "# Create a new document for the filled checklist\n",
    "doc = Document()\n",
    "doc.add_heading(\"STROBE Checklist for Cross-Sectional Study\", level=1)\n",
    "doc.add_paragraph(\"Study Title: What Factors Influence COVID-19 Vaccine Acceptance Among Students in Health Training Institutions? A Cross-Sectional Study in the Volta Region of Ghana\\n\")\n",
    "\n",
    "# Add a table with 3 columns: Item No., Recommendation, Page/Line Number\n",
    "table = doc.add_table(rows=1, cols=3)\n",
    "table.style = 'Table Grid'\n",
    "hdr_cells = table.rows[0].cells\n",
    "hdr_cells[0].text = 'Item No.'\n",
    "hdr_cells[1].text = 'Recommendation'\n",
    "hdr_cells[2].text = 'Page / Line Number in Manuscript'\n",
    "\n",
    "# Checklist items and references\n",
    "strobe_filled = [\n",
    "    (1, \"(a) Indicate study design in title or abstract\", \"Title page, Abstract lines 1–2\"),\n",
    "    (1, \"(b) Informative abstract summary\", \"Abstract, lines 9–37\"),\n",
    "    (2, \"Background/rationale\", \"Pages 2–4, lines 42–102\"),\n",
    "    (3, \"Objectives and hypotheses\", \"Page 4, lines 100–103\"),\n",
    "    (4, \"Study design\", \"Page 5, lines 107–109\"),\n",
    "    (5, \"Setting (location, dates)\", \"Page 5, lines 110–119\"),\n",
    "    (6, \"Eligibility criteria and selection\", \"Page 5–6, lines 120–130\"),\n",
    "    (7, \"Defined variables\", \"Page 6, lines 141–144\"),\n",
    "    (8, \"Data sources and assessment\", \"Page 6, lines 132–144\"),\n",
    "    (9, \"Bias and mitigation\", \"Page 6–7, lines 130–135, 147–150\"),\n",
    "    (10, \"Sample size estimation\", \"Page 6, lines 124–127\"),\n",
    "    (11, \"Quantitative variables handling\", \"Page 7, lines 151–160\"),\n",
    "    (12, \"(a) Statistical methods\", \"Page 7, lines 151–160\"),\n",
    "    (12, \"(b) Subgroups and interactions\", \"Page 7, lines 151–160\"),\n",
    "    (12, \"(c) Missing data\", \"Not explicitly addressed; assumed not applicable\"),\n",
    "    (12, \"(d) Sampling strategy analysis\", \"Page 6–7, lines 126–128, 151–160\"),\n",
    "    (12, \"(e) Sensitivity analyses\", \"Not conducted – N/A\"),\n",
    "    (13, \"(a) Participants at each stage\", \"Page 8, lines 167–168\"),\n",
    "    (13, \"(b) Non-participation reasons\", \"Not reported\"),\n",
    "    (13, \"(c) Flow diagram\", \"Not included\"),\n",
    "    (14, \"(a) Descriptive data of participants\", \"Table 1, Page 8\"),\n",
    "    (14, \"(b) Missing data\", \"Not reported\"),\n",
    "    (15, \"Outcome data summary\", \"Table 2, Page 8–9\"),\n",
    "    (16, \"(a) Estimates with CI/AOR\", \"Table 2, Page 9–10\"),\n",
    "    (16, \"(b) Category boundaries\", \"Page 8, Table 1\"),\n",
    "    (16, \"(c) Absolute risk\", \"Not applicable\"),\n",
    "    (17, \"Other analyses\", \"Page 10, lines 198–200\"),\n",
    "    (18, \"Key results summary\", \"Page 10, lines 201–208\"),\n",
    "    (19, \"Limitations (bias, imprecision)\", \"Page 13, new paragraph inserted\"),\n",
    "    (20, \"Interpretation\", \"Page 10–13, lines 209–275\"),\n",
    "    (21, \"Generalisability\", \"Page 13, lines 272–275\"),\n",
    "    (22, \"Funding statement\", \"Page 14, lines 278–280\"),\n",
    "]\n",
    "\n",
    "# Populate table\n",
    "for item in strobe_filled:\n",
    "    row_cells = table.add_row().cells\n",
    "    row_cells[0].text = str(item[0])\n",
    "    row_cells[1].text = item[1]\n",
    "    row_cells[2].text = item[2]\n",
    "\n",
    "# Save the document\n",
    "output_docx = \"STROBE-Checklist-Filled-COVID19-Vaccine-Acceptance.docx\"\n",
    "doc.save(output_docx)\n",
    "\n",
    "output_docx\n"
   ]
  }
 ],
 "metadata": {
  "kernelspec": {
   "display_name": "Python 3",
   "language": "python",
   "name": "python3"
  },
  "language_info": {
   "codemirror_mode": {
    "name": "ipython",
    "version": 3
   },
   "file_extension": ".py",
   "mimetype": "text/x-python",
   "name": "python",
   "nbconvert_exporter": "python",
   "pygments_lexer": "ipython3",
   "version": "3.13.5"
  }
 },
 "nbformat": 4,
 "nbformat_minor": 5
}
